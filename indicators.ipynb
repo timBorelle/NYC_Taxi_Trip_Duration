{
 "cells": [
  {
   "cell_type": "markdown",
   "metadata": {},
   "source": [
    "Nous souhaitons étudier le comportement des trajets des taxis new yorkais. Pour cela nous\n",
    "allons calculer les indicateurs ci-dessous :\n",
    "● la vitesse moyenne de chaque trajet,\n",
    "● le nombre de trajets effectués en fonction du jour de la semaine,\n",
    "● le nombre de trajets effectués en fonction de l’horaire de la journée par tranche de 4h,\n",
    "● le nombre de km parcourus par jour de la semaine."
   ]
  },
  {
   "cell_type": "code",
   "execution_count": 2,
   "metadata": {},
   "outputs": [
    {
     "name": "stdout",
     "output_type": "stream",
     "text": [
      "Requirement already satisfied: pyspark in c:\\users\\tim-b\\anaconda3\\lib\\site-packages (3.1.2)\n",
      "Requirement already satisfied: py4j==0.10.9 in c:\\users\\tim-b\\anaconda3\\lib\\site-packages (from pyspark) (0.10.9)\n"
     ]
    }
   ],
   "source": [
    "# Install dependencies\n",
    "!pip install pyspark"
   ]
  },
  {
   "cell_type": "code",
   "execution_count": 5,
   "metadata": {},
   "outputs": [],
   "source": [
    "# Get Spark Context\n",
    "from pyspark.sql import SparkSession\n",
    "from pyspark.sql import functions as f\n",
    "from pyspark.sql.types import StructType,StructField, StringType, IntegerType , BooleanType\n",
    "spark = SparkSession.builder.appName('pyspark - NYC Taxi Trip Duration').getOrCreate()\n",
    "sc = spark.sparkContext"
   ]
  },
  {
   "cell_type": "code",
   "execution_count": 2,
   "metadata": {},
   "outputs": [
    {
     "name": "stdout",
     "output_type": "stream",
     "text": [
      "<SparkContext master=local[*] appName=pyspark - NYC Taxi Trip Duration>\n"
     ]
    }
   ],
   "source": [
    "print(sc)"
   ]
  },
  {
   "cell_type": "code",
   "execution_count": 3,
   "metadata": {},
   "outputs": [
    {
     "name": "stdout",
     "output_type": "stream",
     "text": [
      "root\n",
      " |-- _c0: string (nullable = true)\n",
      " |-- _c1: string (nullable = true)\n",
      " |-- _c2: string (nullable = true)\n",
      " |-- _c3: string (nullable = true)\n",
      " |-- _c4: string (nullable = true)\n",
      " |-- _c5: string (nullable = true)\n",
      " |-- _c6: string (nullable = true)\n",
      " |-- _c7: string (nullable = true)\n",
      " |-- _c8: string (nullable = true)\n",
      " |-- _c9: string (nullable = true)\n",
      " |-- _c10: string (nullable = true)\n",
      "\n"
     ]
    }
   ],
   "source": [
    "df = spark.read.csv(\"data/train.csv\")\n",
    "df.printSchema()"
   ]
  },
  {
   "cell_type": "code",
   "execution_count": 7,
   "metadata": {},
   "outputs": [
    {
     "name": "stdout",
     "output_type": "stream",
     "text": [
      "+---------+---------+-------------------+-------------------+---------------+-------------------+------------------+-------------------+------------------+------------------+-------------+\n",
      "|_c0      |_c1      |_c2                |_c3                |_c4            |_c5                |_c6               |_c7                |_c8               |_c9               |_c10         |\n",
      "+---------+---------+-------------------+-------------------+---------------+-------------------+------------------+-------------------+------------------+------------------+-------------+\n",
      "|id       |vendor_id|pickup_datetime    |dropoff_datetime   |passenger_count|pickup_longitude   |pickup_latitude   |dropoff_longitude  |dropoff_latitude  |store_and_fwd_flag|trip_duration|\n",
      "|id2875421|2        |2016-03-14 17:24:55|2016-03-14 17:32:30|1              |-73.982154846191406|40.767936706542969|-73.964630126953125|40.765602111816406|N                 |455          |\n",
      "|id2377394|1        |2016-06-12 00:43:35|2016-06-12 00:54:38|1              |-73.980415344238281|40.738563537597656|-73.999481201171875|40.731151580810547|N                 |663          |\n",
      "|id3858529|2        |2016-01-19 11:35:24|2016-01-19 12:10:48|1              |-73.979026794433594|40.763938903808594|-74.005332946777344|40.710086822509766|N                 |2124         |\n",
      "|id3504673|2        |2016-04-06 19:32:31|2016-04-06 19:39:40|1              |-74.010040283203125|40.719970703125   |-74.01226806640625 |40.706718444824219|N                 |429          |\n",
      "+---------+---------+-------------------+-------------------+---------------+-------------------+------------------+-------------------+------------------+------------------+-------------+\n",
      "only showing top 5 rows\n",
      "\n"
     ]
    }
   ],
   "source": [
    "df.show(5,False)"
   ]
  },
  {
   "cell_type": "code",
   "execution_count": null,
   "metadata": {},
   "outputs": [],
   "source": []
  }
 ],
 "metadata": {
  "kernelspec": {
   "display_name": "Python 3",
   "language": "python",
   "name": "python3"
  },
  "language_info": {
   "codemirror_mode": {
    "name": "ipython",
    "version": 3
   },
   "file_extension": ".py",
   "mimetype": "text/x-python",
   "name": "python",
   "nbconvert_exporter": "python",
   "pygments_lexer": "ipython3",
   "version": "3.7.3"
  }
 },
 "nbformat": 4,
 "nbformat_minor": 2
}
