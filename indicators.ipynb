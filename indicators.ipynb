{
 "cells": [
  {
   "cell_type": "markdown",
   "metadata": {},
   "source": [
    "Nous souhaitons étudier le comportement des trajets des taxis new yorkais. Pour cela nous\n",
    "allons calculer les indicateurs ci-dessous :  \n",
    "● la vitesse moyenne de chaque trajet,  \n",
    "● le nombre de trajets effectués en fonction du jour de la semaine,  \n",
    "● le nombre de trajets effectués en fonction de l’horaire de la journée par tranche de 4h,  \n",
    "● le nombre de km parcourus par jour de la semaine.  \n",
    "  \n",
    "Les données et leurs descriptions sont sur le lien ci-dessous :\n",
    "https://www.kaggle.com/c/nyc-taxi-trip-duration/data"
   ]
  },
  {
   "cell_type": "code",
   "execution_count": 1,
   "metadata": {},
   "outputs": [
    {
     "name": "stdout",
     "output_type": "stream",
     "text": [
      "Requirement already satisfied: pyspark in c:\\users\\tim-b\\anaconda3\\lib\\site-packages (3.1.2)\n",
      "Requirement already satisfied: py4j==0.10.9 in c:\\users\\tim-b\\anaconda3\\lib\\site-packages (from pyspark) (0.10.9)\n"
     ]
    }
   ],
   "source": [
    "# Install dependencies\n",
    "!pip install pyspark"
   ]
  },
  {
   "cell_type": "code",
   "execution_count": 3,
   "metadata": {},
   "outputs": [],
   "source": [
    "# Get Spark imports\n",
    "from pyspark.sql import SparkSession\n",
    "from pyspark.sql.context import SQLContext     # add\n",
    "from pyspark.sql import functions as f\n",
    "from pyspark.sql.types import StructType,StructField, StringType, IntegerType , BooleanType\n",
    "import pyspark.sql.functions as F             # to delete\n",
    "\n",
    "# Other imports\n",
    "import datetime\n",
    "from math import sqrt, cos"
   ]
  },
  {
   "cell_type": "code",
   "execution_count": 4,
   "metadata": {},
   "outputs": [],
   "source": [
    "# Get Spark Context\n",
    "spark = SparkSession.builder.appName('pyspark - NYC Taxi Trip Duration').getOrCreate()\n",
    "sc = spark.sparkContext"
   ]
  },
  {
   "cell_type": "code",
   "execution_count": 5,
   "metadata": {},
   "outputs": [
    {
     "name": "stdout",
     "output_type": "stream",
     "text": [
      "root\n",
      " |-- id: string (nullable = true)\n",
      " |-- vendor_id: integer (nullable = true)\n",
      " |-- pickup_datetime: string (nullable = true)\n",
      " |-- dropoff_datetime: string (nullable = true)\n",
      " |-- passenger_count: integer (nullable = true)\n",
      " |-- pickup_longitude: double (nullable = true)\n",
      " |-- pickup_latitude: double (nullable = true)\n",
      " |-- dropoff_longitude: double (nullable = true)\n",
      " |-- dropoff_latitude: double (nullable = true)\n",
      " |-- store_and_fwd_flag: string (nullable = true)\n",
      " |-- trip_duration: integer (nullable = true)\n",
      "\n"
     ]
    }
   ],
   "source": [
    "df = spark.read.csv(\"data/trainExtract.csv\", header=True, inferSchema=True)\n",
    "df.printSchema()"
   ]
  },
  {
   "cell_type": "code",
   "execution_count": 6,
   "metadata": {},
   "outputs": [
    {
     "data": {
      "text/html": [
       "\n",
       "        <div>\n",
       "            <p><b>SparkContext</b></p>\n",
       "\n",
       "            <p><a href=\"http://Dell-XPS-15-Tim:4040\">Spark UI</a></p>\n",
       "\n",
       "            <dl>\n",
       "              <dt>Version</dt>\n",
       "                <dd><code>v3.1.2</code></dd>\n",
       "              <dt>Master</dt>\n",
       "                <dd><code>local[*]</code></dd>\n",
       "              <dt>AppName</dt>\n",
       "                <dd><code>pyspark - NYC Taxi Trip Duration</code></dd>\n",
       "            </dl>\n",
       "        </div>\n",
       "        "
      ],
      "text/plain": [
       "<SparkContext master=local[*] appName=pyspark - NYC Taxi Trip Duration>"
      ]
     },
     "execution_count": 6,
     "metadata": {},
     "output_type": "execute_result"
    }
   ],
   "source": [
    "sc"
   ]
  },
  {
   "cell_type": "code",
   "execution_count": 7,
   "metadata": {},
   "outputs": [
    {
     "name": "stdout",
     "output_type": "stream",
     "text": [
      "-RECORD 0---------------------------------\n",
      " id                 | id2875421           \n",
      " vendor_id          | 2                   \n",
      " pickup_datetime    | 2016-03-14 17:24:55 \n",
      " dropoff_datetime   | 2016-03-14 17:32:30 \n",
      " passenger_count    | 1                   \n",
      " pickup_longitude   | -73.9821548461914   \n",
      " pickup_latitude    | 40.76793670654297   \n",
      " dropoff_longitude  | -73.96463012695312  \n",
      " dropoff_latitude   | 40.765602111816406  \n",
      " store_and_fwd_flag | N                   \n",
      " trip_duration      | 455                 \n",
      "-RECORD 1---------------------------------\n",
      " id                 | id2377394           \n",
      " vendor_id          | 1                   \n",
      " pickup_datetime    | 2016-06-12 00:43:35 \n",
      " dropoff_datetime   | 2016-06-12 00:54:38 \n",
      " passenger_count    | 1                   \n",
      " pickup_longitude   | -73.98041534423828  \n",
      " pickup_latitude    | 40.738563537597656  \n",
      " dropoff_longitude  | -73.99948120117188  \n",
      " dropoff_latitude   | 40.73115158081055   \n",
      " store_and_fwd_flag | N                   \n",
      " trip_duration      | 663                 \n",
      "only showing top 2 rows\n",
      "\n"
     ]
    }
   ],
   "source": [
    "df.show(1,False,vertical=True)"
   ]
  },
  {
   "cell_type": "code",
   "execution_count": 8,
   "metadata": {},
   "outputs": [
    {
     "name": "stdout",
     "output_type": "stream",
     "text": [
      "+-------------+\n",
      "|trip_duration|\n",
      "+-------------+\n",
      "|          455|\n",
      "|          663|\n",
      "+-------------+\n",
      "only showing top 2 rows\n",
      "\n"
     ]
    }
   ],
   "source": [
    "df.select(\"trip_duration\").show(2)"
   ]
  },
  {
   "cell_type": "code",
   "execution_count": 10,
   "metadata": {},
   "outputs": [],
   "source": [
    "#from pyspark.sql.functions import lit"
   ]
  },
  {
   "cell_type": "code",
   "execution_count": 11,
   "metadata": {},
   "outputs": [],
   "source": [
    "#df_with_distance = df.withColumn(\"distance\", \n",
    "#             lit(0))\n",
    "# 1.852 * 60 * sqrt(pow((df.select(\"dropoff_longitude\")-df.select(\"pickup_longitude\")*cos((df.select(\"pickup_latitude\")+df.select(\"dropoff_latitude\"))/2)), 2)+pow(df.select(\"dropoff_latitude\")-df.select(\"pickup_latitude\"), 2) )\n",
    "#df_with_distance.show(2,False,vertical=True)"
   ]
  },
  {
   "cell_type": "code",
   "execution_count": 12,
   "metadata": {},
   "outputs": [],
   "source": [
    "def getKmDistance(pickup_longitude, pickup_latitude, dropoff_longitude, dropoff_latitude):\n",
    "    x = (dropoff_longitude - pickup_longitude) * cos((pickup_latitude + dropoff_latitude) / 2 )\n",
    "    y = dropoff_latitude - pickup_latitude\n",
    "    z = sqrt(pow(x, 2) + pow(y, 2))\n",
    "    return 1.852 * 60 * z"
   ]
  },
  {
   "cell_type": "code",
   "execution_count": 13,
   "metadata": {},
   "outputs": [
    {
     "data": {
      "text/plain": [
       "1.959277081692363"
      ]
     },
     "execution_count": 13,
     "metadata": {},
     "output_type": "execute_result"
    }
   ],
   "source": [
    "#res = df.select(\"pickup_longitude\",\"pickup_latitude\",\"dropoff_longitude\",\"dropoff_latitude\").limit(1)\n",
    "#res.show(3)\n",
    "distance0 = getKmDistance(-73.982154846191406, 40.767936706542969, -73.964630126953125,40.765602111816406 )\n",
    "distance0"
   ]
  },
  {
   "cell_type": "code",
   "execution_count": 15,
   "metadata": {},
   "outputs": [
    {
     "data": {
      "text/plain": [
       "'\\n#convert to a UDF Function by passing in the function and return type of function\\nudfGetDistance = F.udf(getKmDistance, StringType())\\ndf_with_distance = df.withColumn(\"distance\", udfGetDistance(\"pickup_longitude\", \"pickup_latitude\", \"dropoff_longitude\", \"dropoff_latitude\"))\\ndf_with_distance.show(1,False,vertical=True)\\n'"
      ]
     },
     "execution_count": 15,
     "metadata": {},
     "output_type": "execute_result"
    }
   ],
   "source": [
    "'''\n",
    "#convert to a UDF Function by passing in the function and return type of function\n",
    "udfGetDistance = F.udf(getKmDistance, StringType())\n",
    "df_with_distance = df.withColumn(\"distance\", udfGetDistance(\"pickup_longitude\", \"pickup_latitude\", \"dropoff_longitude\", \"dropoff_latitude\"))\n",
    "df_with_distance.show(1,False,vertical=True)\n",
    "''' # Python worker failed to connect back. accept timeout !"
   ]
  },
  {
   "cell_type": "code",
   "execution_count": 18,
   "metadata": {},
   "outputs": [],
   "source": [
    "sqlContext = SQLContext(sc)\n",
    "#sqlContext"
   ]
  },
  {
   "cell_type": "code",
   "execution_count": 19,
   "metadata": {},
   "outputs": [
    {
     "name": "stdout",
     "output_type": "stream",
     "text": [
      "+---------+---------+-------------------+-------------------+---------------+------------------+------------------+------------------+------------------+------------------+-------------+-----------------+\n",
      "|       id|vendor_id|    pickup_datetime|   dropoff_datetime|passenger_count|  pickup_longitude|   pickup_latitude| dropoff_longitude|  dropoff_latitude|store_and_fwd_flag|trip_duration|         distance|\n",
      "+---------+---------+-------------------+-------------------+---------------+------------------+------------------+------------------+------------------+------------------+-------------+-----------------+\n",
      "|id2875421|        2|2016-03-14 17:24:55|2016-03-14 17:32:30|              1| -73.9821548461914| 40.76793670654297|-73.96463012695312|40.765602111816406|                 N|          455|1.959277081692363|\n",
      "|id2377394|        1|2016-06-12 00:43:35|2016-06-12 00:54:38|              1|-73.98041534423828|40.738563537597656|-73.99948120117188| 40.73115158081055|                 N|          663|2.262012974524877|\n",
      "+---------+---------+-------------------+-------------------+---------------+------------------+------------------+------------------+------------------+------------------+-------------+-----------------+\n",
      "only showing top 2 rows\n",
      "\n"
     ]
    }
   ],
   "source": [
    "df.registerTempTable('df_table')\n",
    "df_with_distance = sqlContext.sql('select *, \\\n",
    "    1.852*60*sqrt(pow((dropoff_longitude-pickup_longitude)*cos((pickup_latitude+dropoff_latitude)/2),2) + pow(dropoff_latitude-pickup_latitude,2)) \\\n",
    "    as distance from df_table')\n",
    "df_with_distance.show(2)"
   ]
  },
  {
   "cell_type": "code",
   "execution_count": 38,
   "metadata": {},
   "outputs": [
    {
     "name": "stdout",
     "output_type": "stream",
     "text": [
      "+------------------+\n",
      "|  Average distance|\n",
      "+------------------+\n",
      "|3.9253457473550606|\n",
      "+------------------+\n",
      "\n"
     ]
    }
   ],
   "source": [
    "# Get Average distance\n",
    "#df_with_distance.filter(df_with_distance['distance'] > 0.0).agg({\"distance\": \"avg\"})\n",
    "#print(df_with_distance.filter(df_with_distance['distance'] > 0.0).groupBy().avg('distance'))\n",
    "df_with_distance.select(f.avg(\"distance\").alias(\"Average distance\")).show()"
   ]
  },
  {
   "cell_type": "code",
   "execution_count": 20,
   "metadata": {},
   "outputs": [
    {
     "data": {
      "text/plain": [
       "'2016-01-01 03:49:48'"
      ]
     },
     "execution_count": 20,
     "metadata": {},
     "output_type": "execute_result"
    }
   ],
   "source": [
    "date_time_str = df_with_distance.groupby(\"pickup_datetime\").mean().collect()[0][\"pickup_datetime\"]\n",
    "date_time_str"
   ]
  },
  {
   "cell_type": "code",
   "execution_count": 74,
   "metadata": {},
   "outputs": [],
   "source": [
    "def getDayOfWeek(date_time_str):\n",
    "    date_time_obj = datetime.datetime.strptime(date_time_str, '%Y-%m-%d %H:%M:%S')\n",
    "    return date_time_obj.strftime('%A').lower()"
   ]
  },
  {
   "cell_type": "code",
   "execution_count": 24,
   "metadata": {},
   "outputs": [
    {
     "data": {
      "text/plain": [
       "'friday'"
      ]
     },
     "execution_count": 24,
     "metadata": {},
     "output_type": "execute_result"
    }
   ],
   "source": [
    "test_date = getDayOfWeek('2016-01-01 03:49:48')\n",
    "test_date"
   ]
  },
  {
   "cell_type": "code",
   "execution_count": 62,
   "metadata": {},
   "outputs": [],
   "source": [
    "#convert to a UDF Function by passing in the function and return type of function\n",
    "#udfsomefunc = F.udf(getDayOfWeek, StringType())\n",
    "#df_with_day_of_week = df_with_distance.withColumn(\"day_of_week\", udfsomefunc(\"pickup_datetime\"))\n",
    "#df_with_day_of_week = df_with_distance.withColumn(\"day_of_week\", f.col(\"pickup_datetime\")[0:9])\n",
    "#df_with_day_of_week.show(1)"
   ]
  },
  {
   "cell_type": "code",
   "execution_count": 63,
   "metadata": {},
   "outputs": [],
   "source": [
    "#my_udf = f.udf(lambda x: getDayOfWeek(x), StringType())\n",
    "\n",
    "#df_with_day_of_week = df_with_distance.withColumn('day_of_week', my_udf(df_with_distance.pickup_datetime) ) \n",
    "# df_with_day_of_week.show(2,False,vertical=True) # accept time out !"
   ]
  },
  {
   "cell_type": "code",
   "execution_count": 67,
   "metadata": {},
   "outputs": [
    {
     "name": "stdout",
     "output_type": "stream",
     "text": [
      "+---------+---------+-------------------+-------------------+---------------+------------------+------------------+------------------+------------------+------------------+-------------+-----------------+-----------+\n",
      "|       id|vendor_id|    pickup_datetime|   dropoff_datetime|passenger_count|  pickup_longitude|   pickup_latitude| dropoff_longitude|  dropoff_latitude|store_and_fwd_flag|trip_duration|         distance|day_of_week|\n",
      "+---------+---------+-------------------+-------------------+---------------+------------------+------------------+------------------+------------------+------------------+-------------+-----------------+-----------+\n",
      "|id2875421|        2|2016-03-14 17:24:55|2016-03-14 17:32:30|              1| -73.9821548461914| 40.76793670654297|-73.96463012695312|40.765602111816406|                 N|          455|1.959277081692363|     Monday|\n",
      "|id2377394|        1|2016-06-12 00:43:35|2016-06-12 00:54:38|              1|-73.98041534423828|40.738563537597656|-73.99948120117188| 40.73115158081055|                 N|          663|2.262012974524877|     Sunday|\n",
      "+---------+---------+-------------------+-------------------+---------------+------------------+------------------+------------------+------------------+------------------+-------------+-----------------+-----------+\n",
      "only showing top 2 rows\n",
      "\n"
     ]
    }
   ],
   "source": [
    "df_with_day_of_week = df_with_distance.withColumn(\"pickup_datetime\",\n",
    "    f.to_timestamp(f.col(\"pickup_datetime\"))).withColumn(\"day_of_week\", f.date_format(f.col(\"pickup_datetime\"), \"EEEE\"))\n",
    "df_with_day_of_week.show(2)"
   ]
  },
  {
   "cell_type": "code",
   "execution_count": 41,
   "metadata": {},
   "outputs": [],
   "source": [
    "#df_with_distance.registerTempTable('df_table_with_day_of_week')\n",
    "#df_with_day_of_week = sqlContext.sql('select *, \\\n",
    "#    datetime.datetime.strptime(pickup_datetime, \"%Y-%m-%d %H:%M:%S\").strftime(\"%A\").lower() \\\n",
    "#    as day_of_week from df_table_with_day_of_week')\n",
    "#df_with_day_of_week.show(2) # mismatched input '\"%A\"' expecting {'ADD', 'AFTER',..."
   ]
  },
  {
   "cell_type": "code",
   "execution_count": 47,
   "metadata": {},
   "outputs": [
    {
     "name": "stdout",
     "output_type": "stream",
     "text": [
      "+---------------+\n",
      "|passenger_count|\n",
      "+---------------+\n",
      "|              1|\n",
      "|              6|\n",
      "|              3|\n",
      "|              5|\n",
      "|              4|\n",
      "|              2|\n",
      "+---------------+\n",
      "\n"
     ]
    }
   ],
   "source": [
    "df_with_day_of_week.select(df_with_day_of_week[\"passenger_count\"]).distinct().show()"
   ]
  },
  {
   "cell_type": "code",
   "execution_count": 78,
   "metadata": {},
   "outputs": [
    {
     "name": "stdout",
     "output_type": "stream",
     "text": [
      "+-----------+-----+\n",
      "|day_of_week|count|\n",
      "+-----------+-----+\n",
      "|  Wednesday|  140|\n",
      "|    Tuesday|  141|\n",
      "|     Friday|  152|\n",
      "|   Thursday|  142|\n",
      "|   Saturday|  150|\n",
      "|     Monday|  136|\n",
      "|     Sunday|  138|\n",
      "+-----------+-----+\n",
      "\n"
     ]
    }
   ],
   "source": [
    "# le nombre de trajets effectués en fonction du jour de la semaine\n",
    "df_with_day_of_week.groupBy('day_of_week').count().show()"
   ]
  },
  {
   "cell_type": "code",
   "execution_count": 75,
   "metadata": {},
   "outputs": [],
   "source": [
    "#df(\"trip_duration\").show(5)\n",
    "#averageSpeed = distance / duration"
   ]
  },
  {
   "cell_type": "code",
   "execution_count": null,
   "metadata": {},
   "outputs": [],
   "source": []
  }
 ],
 "metadata": {
  "kernelspec": {
   "display_name": "Python 3",
   "language": "python",
   "name": "python3"
  },
  "language_info": {
   "codemirror_mode": {
    "name": "ipython",
    "version": 3
   },
   "file_extension": ".py",
   "mimetype": "text/x-python",
   "name": "python",
   "nbconvert_exporter": "python",
   "pygments_lexer": "ipython3",
   "version": "3.7.3"
  }
 },
 "nbformat": 4,
 "nbformat_minor": 2
}
