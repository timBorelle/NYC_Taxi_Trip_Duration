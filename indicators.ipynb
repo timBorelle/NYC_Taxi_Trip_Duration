{
 "cells": [
  {
   "cell_type": "markdown",
   "metadata": {},
   "source": [
    "Nous souhaitons étudier le comportement des trajets des taxis new yorkais. Pour cela nous\n",
    "allons calculer les indicateurs ci-dessous :  \n",
    "● la vitesse moyenne de chaque trajet,  \n",
    "● le nombre de trajets effectués en fonction du jour de la semaine,  \n",
    "● le nombre de trajets effectués en fonction de l’horaire de la journée par tranche de 4h,  \n",
    "● le nombre de km parcourus par jour de la semaine.  \n",
    "  \n",
    "Les données et leurs descriptions sont sur le lien ci-dessous :\n",
    "https://www.kaggle.com/c/nyc-taxi-trip-duration/data"
   ]
  },
  {
   "cell_type": "code",
   "execution_count": 1,
   "metadata": {},
   "outputs": [
    {
     "name": "stdout",
     "output_type": "stream",
     "text": [
      "Requirement already satisfied: pyspark in c:\\users\\tim-b\\anaconda3\\lib\\site-packages (3.1.2)\n",
      "Requirement already satisfied: py4j==0.10.9 in c:\\users\\tim-b\\anaconda3\\lib\\site-packages (from pyspark) (0.10.9)\n"
     ]
    }
   ],
   "source": [
    "# Install dependencies\n",
    "!pip install pyspark"
   ]
  },
  {
   "cell_type": "code",
   "execution_count": 2,
   "metadata": {},
   "outputs": [],
   "source": [
    "# Get Spark imports\n",
    "from pyspark.sql import SparkSession\n",
    "from pyspark.sql.context import SQLContext     # add\n",
    "from pyspark.sql import functions as f\n",
    "from pyspark.sql.types import StructType,StructField, StringType, IntegerType , BooleanType\n",
    "#import pyspark.sql.functions as F             # to delete\n",
    "\n",
    "# Other imports\n",
    "import datetime\n",
    "from math import sqrt, cos"
   ]
  },
  {
   "cell_type": "code",
   "execution_count": 3,
   "metadata": {},
   "outputs": [],
   "source": [
    "# Get Spark Context\n",
    "spark = SparkSession.builder.appName('pyspark - NYC Taxi Trip Duration').getOrCreate()\n",
    "sc = spark.sparkContext\n",
    "sqlContext = SQLContext(sc)"
   ]
  },
  {
   "cell_type": "code",
   "execution_count": 5,
   "metadata": {},
   "outputs": [
    {
     "data": {
      "text/html": [
       "\n",
       "        <div>\n",
       "            <p><b>SparkContext</b></p>\n",
       "\n",
       "            <p><a href=\"http://Dell-XPS-15-Tim:4040\">Spark UI</a></p>\n",
       "\n",
       "            <dl>\n",
       "              <dt>Version</dt>\n",
       "                <dd><code>v3.1.2</code></dd>\n",
       "              <dt>Master</dt>\n",
       "                <dd><code>local[*]</code></dd>\n",
       "              <dt>AppName</dt>\n",
       "                <dd><code>pyspark - NYC Taxi Trip Duration</code></dd>\n",
       "            </dl>\n",
       "        </div>\n",
       "        "
      ],
      "text/plain": [
       "<SparkContext master=local[*] appName=pyspark - NYC Taxi Trip Duration>"
      ]
     },
     "execution_count": 5,
     "metadata": {},
     "output_type": "execute_result"
    }
   ],
   "source": [
    "sc"
   ]
  },
  {
   "cell_type": "code",
   "execution_count": 6,
   "metadata": {},
   "outputs": [
    {
     "name": "stdout",
     "output_type": "stream",
     "text": [
      "root\n",
      " |-- id: string (nullable = true)\n",
      " |-- vendor_id: integer (nullable = true)\n",
      " |-- pickup_datetime: string (nullable = true)\n",
      " |-- dropoff_datetime: string (nullable = true)\n",
      " |-- passenger_count: integer (nullable = true)\n",
      " |-- pickup_longitude: double (nullable = true)\n",
      " |-- pickup_latitude: double (nullable = true)\n",
      " |-- dropoff_longitude: double (nullable = true)\n",
      " |-- dropoff_latitude: double (nullable = true)\n",
      " |-- store_and_fwd_flag: string (nullable = true)\n",
      " |-- trip_duration: integer (nullable = true)\n",
      "\n"
     ]
    }
   ],
   "source": [
    "df = spark.read.csv(\"data/trainExtract.csv\", header=True, inferSchema=True)\n",
    "df.printSchema()"
   ]
  },
  {
   "cell_type": "code",
   "execution_count": 14,
   "metadata": {},
   "outputs": [
    {
     "name": "stdout",
     "output_type": "stream",
     "text": [
      "999 11\n"
     ]
    }
   ],
   "source": [
    "print(df.count(), len(df.columns))"
   ]
  },
  {
   "cell_type": "code",
   "execution_count": 15,
   "metadata": {},
   "outputs": [
    {
     "name": "stdout",
     "output_type": "stream",
     "text": [
      "-RECORD 0---------------------------------\n",
      " id                 | id2875421           \n",
      " vendor_id          | 2                   \n",
      " pickup_datetime    | 2016-03-14 17:24:55 \n",
      " dropoff_datetime   | 2016-03-14 17:32:30 \n",
      " passenger_count    | 1                   \n",
      " pickup_longitude   | -73.9821548461914   \n",
      " pickup_latitude    | 40.76793670654297   \n",
      " dropoff_longitude  | -73.96463012695312  \n",
      " dropoff_latitude   | 40.765602111816406  \n",
      " store_and_fwd_flag | N                   \n",
      " trip_duration      | 455                 \n",
      "only showing top 1 row\n",
      "\n"
     ]
    }
   ],
   "source": [
    "df.show(1,False,vertical=True)"
   ]
  },
  {
   "cell_type": "code",
   "execution_count": 17,
   "metadata": {},
   "outputs": [],
   "source": [
    "def getKmDistance(pickup_longitude, pickup_latitude, dropoff_longitude, dropoff_latitude):\n",
    "    x = (dropoff_longitude - pickup_longitude) * cos((pickup_latitude + dropoff_latitude) / 2 )\n",
    "    y = dropoff_latitude - pickup_latitude\n",
    "    z = sqrt(pow(x, 2) + pow(y, 2))\n",
    "    k = 1.852 * 60\n",
    "    return k * z"
   ]
  },
  {
   "cell_type": "code",
   "execution_count": 18,
   "metadata": {},
   "outputs": [
    {
     "name": "stdout",
     "output_type": "stream",
     "text": [
      "+---------+---------+-------------------+-------------------+---------------+-----------------+-----------------+------------------+------------------+------------------+-------------+-----------------+\n",
      "|       id|vendor_id|    pickup_datetime|   dropoff_datetime|passenger_count| pickup_longitude|  pickup_latitude| dropoff_longitude|  dropoff_latitude|store_and_fwd_flag|trip_duration|         distance|\n",
      "+---------+---------+-------------------+-------------------+---------------+-----------------+-----------------+------------------+------------------+------------------+-------------+-----------------+\n",
      "|id2875421|        2|2016-03-14 17:24:55|2016-03-14 17:32:30|              1|-73.9821548461914|40.76793670654297|-73.96463012695312|40.765602111816406|                 N|          455|1.959277081692363|\n",
      "+---------+---------+-------------------+-------------------+---------------+-----------------+-----------------+------------------+------------------+------------------+-------------+-----------------+\n",
      "only showing top 1 row\n",
      "\n"
     ]
    }
   ],
   "source": [
    "df.registerTempTable('df_table')\n",
    "df_with_distance = sqlContext.sql('select *, \\\n",
    "    1.852*60*sqrt(pow((dropoff_longitude-pickup_longitude)*cos((pickup_latitude+dropoff_latitude)/2),2) + pow(dropoff_latitude-pickup_latitude,2)) \\\n",
    "    as distance from df_table')\n",
    "df_with_distance.show(1)"
   ]
  },
  {
   "cell_type": "code",
   "execution_count": 19,
   "metadata": {},
   "outputs": [
    {
     "data": {
      "text/plain": [
       "'friday'"
      ]
     },
     "execution_count": 19,
     "metadata": {},
     "output_type": "execute_result"
    }
   ],
   "source": [
    "def getDayOfWeek(date_time_str):\n",
    "    date_time_obj = datetime.datetime.strptime(date_time_str, '%Y-%m-%d %H:%M:%S')\n",
    "    return date_time_obj.strftime('%A').lower()\n",
    "test_date = getDayOfWeek('2016-01-01 03:49:48')\n",
    "test_date"
   ]
  },
  {
   "cell_type": "code",
   "execution_count": 20,
   "metadata": {},
   "outputs": [
    {
     "name": "stdout",
     "output_type": "stream",
     "text": [
      "+---------+---------+-------------------+-------------------+---------------+------------------+------------------+------------------+------------------+------------------+-------------+-----------------+-----------+\n",
      "|       id|vendor_id|    pickup_datetime|   dropoff_datetime|passenger_count|  pickup_longitude|   pickup_latitude| dropoff_longitude|  dropoff_latitude|store_and_fwd_flag|trip_duration|         distance|day_of_week|\n",
      "+---------+---------+-------------------+-------------------+---------------+------------------+------------------+------------------+------------------+------------------+-------------+-----------------+-----------+\n",
      "|id2875421|        2|2016-03-14 17:24:55|2016-03-14 17:32:30|              1| -73.9821548461914| 40.76793670654297|-73.96463012695312|40.765602111816406|                 N|          455|1.959277081692363|     Monday|\n",
      "|id2377394|        1|2016-06-12 00:43:35|2016-06-12 00:54:38|              1|-73.98041534423828|40.738563537597656|-73.99948120117188| 40.73115158081055|                 N|          663|2.262012974524877|     Sunday|\n",
      "+---------+---------+-------------------+-------------------+---------------+------------------+------------------+------------------+------------------+------------------+-------------+-----------------+-----------+\n",
      "only showing top 2 rows\n",
      "\n"
     ]
    }
   ],
   "source": [
    "df_with_day_of_week = df_with_distance.withColumn(\"pickup_datetime\",\n",
    "    f.to_timestamp(f.col(\"pickup_datetime\"))).withColumn(\"day_of_week\", f.date_format(f.col(\"pickup_datetime\"), \"EEEE\"))\n",
    "df_with_day_of_week.show(2)"
   ]
  },
  {
   "cell_type": "code",
   "execution_count": 22,
   "metadata": {},
   "outputs": [
    {
     "name": "stdout",
     "output_type": "stream",
     "text": [
      "+-----------+---------------+\n",
      "|day_of_week|number of trips|\n",
      "+-----------+---------------+\n",
      "|  Wednesday|            140|\n",
      "|    Tuesday|            141|\n",
      "|     Friday|            152|\n",
      "|   Thursday|            142|\n",
      "|   Saturday|            150|\n",
      "|     Monday|            136|\n",
      "|     Sunday|            138|\n",
      "+-----------+---------------+\n",
      "\n"
     ]
    }
   ],
   "source": [
    "# le nombre de trajets effectués en fonction du jour de la semaine\n",
    "df_with_day_of_week.groupBy('day_of_week').count().withColumnRenamed(\"count\",\"number of trips\").show()"
   ]
  },
  {
   "cell_type": "code",
   "execution_count": 27,
   "metadata": {},
   "outputs": [
    {
     "name": "stdout",
     "output_type": "stream",
     "text": [
      "+-----------+------------------------------+\n",
      "|day_of_week|number of kilometers travelled|\n",
      "+-----------+------------------------------+\n",
      "|  Wednesday|             637.3384980282934|\n",
      "|    Tuesday|              535.447840446507|\n",
      "|     Friday|             525.1827969908102|\n",
      "|   Thursday|            488.91298518289153|\n",
      "|   Saturday|             544.5255557385256|\n",
      "|     Monday|             545.3308556108145|\n",
      "|     Sunday|             644.6818696098692|\n",
      "+-----------+------------------------------+\n",
      "\n"
     ]
    }
   ],
   "source": [
    "# le nombre de km parcourus par jour de la semaine.\n",
    "df_with_day_of_week.groupby('day_of_week').agg({'distance': 'sum'}).withColumnRenamed(\"sum(distance)\",\"number of kilometers travelled\").show()"
   ]
  },
  {
   "cell_type": "code",
   "execution_count": null,
   "metadata": {},
   "outputs": [],
   "source": []
  }
 ],
 "metadata": {
  "kernelspec": {
   "display_name": "Python 3",
   "language": "python",
   "name": "python3"
  },
  "language_info": {
   "codemirror_mode": {
    "name": "ipython",
    "version": 3
   },
   "file_extension": ".py",
   "mimetype": "text/x-python",
   "name": "python",
   "nbconvert_exporter": "python",
   "pygments_lexer": "ipython3",
   "version": "3.7.3"
  }
 },
 "nbformat": 4,
 "nbformat_minor": 2
}
